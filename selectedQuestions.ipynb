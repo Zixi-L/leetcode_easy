{
 "cells": [
  {
   "cell_type": "code",
   "execution_count": 1,
   "id": "several-karaoke",
   "metadata": {},
   "outputs": [],
   "source": [
    "from typing import Union, Tuple"
   ]
  },
  {
   "cell_type": "markdown",
   "id": "dietary-mineral",
   "metadata": {},
   "source": [
    "**Question 1**\n",
    "\n",
    "Replace None with previous list item. this tricked me little bit and took some time to solve. [She asked me not to update the existing list instead create new one]\n",
    "\n",
    "[None] ==> [None]\n",
    "\n",
    "[] ==> []\n",
    "\n",
    "[None,1,2] ==> [None,1,2]\n",
    "\n",
    "[2,None,3] ==> [2,2,3]\n",
    "\n",
    "[2,3,None,None,3] ==> [2,3,3,3]"
   ]
  },
  {
   "cell_type": "code",
   "execution_count": 108,
   "id": "radical-facility",
   "metadata": {},
   "outputs": [
    {
     "name": "stdout",
     "output_type": "stream",
     "text": [
      "pass\n"
     ]
    }
   ],
   "source": [
    "def replace_none(l: list) -> list:\n",
    "    if len(l) == 0:\n",
    "        return l\n",
    "    new_list = [l[0]]\n",
    "    for i in l[1:]:\n",
    "        if i:\n",
    "            new_list.append(i)\n",
    "        else:\n",
    "            new_list.append(new_list[-1])\n",
    "    return new_list\n",
    "assert replace_none([None]) ==[None]\n",
    "assert replace_none([]) == []\n",
    "assert replace_none([None,1,2])==[None,1,2]\n",
    "assert replace_none([2,None,3])==[2,2,3]\n",
    "assert replace_none([2,3,None,None,3]) == [2,3,3,3,3]\n",
    "print('pass')"
   ]
  },
  {
   "cell_type": "markdown",
   "id": "entitled-designation",
   "metadata": {},
   "source": [
    "**Question 2**  **快速写出 sorted**\n",
    "\n",
    "Given a dictionary, print the key for nth highest value present in the dict. If there are more than 1 record present for nth highest value then sort the key and print the first one.\n",
    "\n"
   ]
  },
  {
   "cell_type": "code",
   "execution_count": 109,
   "id": "expanded-thompson",
   "metadata": {},
   "outputs": [
    {
     "name": "stdout",
     "output_type": "stream",
     "text": [
      "pass\n"
     ]
    }
   ],
   "source": [
    "def find_nth_value(dic:dict) -> str:\n",
    "    dic = sorted(dic, key=lambda x: dic[x], reverse=True)\n",
    "    return dic[0]\n",
    "assert find_nth_value({'a':1,'b':2,'c':3,'d':4}) == 'd'\n",
    "assert find_nth_value({'a':4,'b':3,'c':2,'d':1}) == 'a'\n",
    "assert find_nth_value({'a':3,'b':1,'c':1,'d':3}) == 'a'\n",
    "assert find_nth_value({'a':1,'b':2,'c':1,'d':2}) == 'b'\n",
    "print('pass')"
   ]
  },
  {
   "cell_type": "markdown",
   "id": "primary-language",
   "metadata": {},
   "source": [
    "**Question 3**\n",
    "\n",
    "find s in missisipi - print the index"
   ]
  },
  {
   "cell_type": "code",
   "execution_count": 125,
   "id": "auburn-sodium",
   "metadata": {},
   "outputs": [],
   "source": [
    "def find_character(word:str, target:str) -> list:\n",
    "    idx = []\n",
    "    for i,c in enumerate(word):\n",
    "        if c.lower() == target:\n",
    "            idx.append(i)\n",
    "    return idx\n",
    "\n",
    "assert find_character('missisipi','s') == [2,3,5]\n",
    "assert find_character('Redwood','s') == []\n",
    "assert find_character('RedwOod','o') == [4,5]"
   ]
  },
  {
   "cell_type": "markdown",
   "id": "ongoing-transition",
   "metadata": {},
   "source": [
    "**Question4** review how to check 012 != 12, how to check hexadecimal， how to use count() and all()\n",
    "\n",
    "Validate IP Address (Leetcode 468)"
   ]
  },
  {
   "cell_type": "code",
   "execution_count": 68,
   "id": "alike-tender",
   "metadata": {},
   "outputs": [],
   "source": [
    "def valid_ip(IP:str) -> str:\n",
    "    ip_list = IP.split('.')\n",
    "    if len(ip_list) !=4:\n",
    "        return 'Neither'\n",
    "    for e in ip_list:\n",
    "        if len(e)!=1:\n",
    "            if e[0] == 0:    \n",
    "                return 'Neither'\n",
    "        if e.isdigit() and 0<=int(e)<=255:\n",
    "            continue\n",
    "        else:\n",
    "            return \"Neither\"\n",
    "    return \"IPv4\""
   ]
  },
  {
   "cell_type": "code",
   "execution_count": 69,
   "id": "determined-boards",
   "metadata": {},
   "outputs": [],
   "source": [
    "assert valid_ip(\"172.16.254.1\") == 'IPv4'\n",
    "assert valid_ip('192.168.1.0') == 'IPv4'\n",
    "# assert valid_ip(\"2001:0db8:85a3:0:0:8A2E:0370:7334\") == 'IPv6'\n",
    "assert valid_ip(\"256.256.256.256\") == 'Neither'\n",
    "# assert valid_ip(\"2001:0db8:85a3:0:0:8A2E:0370:7334:\") == 'Neither'\n",
    "assert valid_ip(\"1e1.4.5.6\") == 'Neither'\n",
    "assert valid_ip(\"256.056.256.256\") == 'Neither'\n",
    "assert valid_ip(\"172.16.257.1\") == 'Neither'"
   ]
  },
  {
   "cell_type": "code",
   "execution_count": 70,
   "id": "viral-columbia",
   "metadata": {},
   "outputs": [],
   "source": [
    "def valid_ip_v2(IP:str) -> str:\n",
    "    def valid_ip4(ip:str) -> str:\n",
    "        try: return str(int(ip)) == ip and 0<=int(ip)<=255\n",
    "        except: return False\n",
    "\n",
    "    def valid_ip6(ip:str) -> str:\n",
    "        try: return int(ip, 16)>=0 and len(ip)<=4\n",
    "        except: return False\n",
    "    \n",
    "    if IP.count('.')==3 and all(valid_ip4(s) for s in IP.split('.')):\n",
    "        return 'IPv4'\n",
    "    \n",
    "    if IP.count(':') == 7 and all(valid_ip6(s) for s in IP.split(':')):\n",
    "        return 'IPv6'\n",
    "    \n",
    "    return \"Neither\"\n"
   ]
  },
  {
   "cell_type": "code",
   "execution_count": 71,
   "id": "mysterious-order",
   "metadata": {},
   "outputs": [],
   "source": [
    "assert valid_ip_v2(\"172.16.254.1\") == 'IPv4'\n",
    "assert valid_ip_v2('192.168.1.0') == 'IPv4'\n",
    "assert valid_ip_v2(\"2001:0db8:85a3:0:0:8A2E:0370:7334\") == 'IPv6'\n",
    "assert valid_ip_v2(\"256.256.256.256\") == 'Neither'\n",
    "assert valid_ip_v2(\"2001:0db8:85a3:0:0:8A2E:0370:7334:\") == 'Neither'\n",
    "assert valid_ip_v2(\"1e1.4.5.6\") == 'Neither'\n",
    "assert valid_ip_v2(\"256.056.256.256\") == 'Neither'\n",
    "assert valid_ip_v2(\"172.16.257.1\") == 'Neither'"
   ]
  },
  {
   "cell_type": "markdown",
   "id": "gorgeous-scholarship",
   "metadata": {},
   "source": [
    "## String\n",
    "\n",
    "344 557 1859 1455 387 458 917\n",
    "\n",
    "**344**: Reverse String\n",
    "\n",
    "    Input: s = [\"h\",\"e\",\"l\",\"l\",\"o\"]\n",
    "\n",
    "    Output: [\"o\",\"l\",\"l\",\"e\",\"h\"]"
   ]
  },
  {
   "cell_type": "code",
   "execution_count": 14,
   "id": "optimum-booth",
   "metadata": {},
   "outputs": [
    {
     "data": {
      "text/plain": [
       "['o', 'l', 'l', 'e', 'h']"
      ]
     },
     "execution_count": 14,
     "metadata": {},
     "output_type": "execute_result"
    }
   ],
   "source": [
    "def reverseString(s: list) -> str:\n",
    "    \"\"\"\n",
    "    Do not return anything, modify s in-place instead.\n",
    "    \"\"\"\n",
    "    s[::1] = s[::-1]\n",
    "    return s\n",
    "s = [\"h\",\"e\",\"l\",\"l\",\"o\"]\n",
    "reverseString(s)"
   ]
  },
  {
   "cell_type": "markdown",
   "id": "frozen-damages",
   "metadata": {},
   "source": [
    "**557**  Reverse Words in a String \n",
    "\n",
    "Input: s = \"Let's take LeetCode contest\"\n",
    "\n",
    "Output: \"s'teL ekat edoCteeL tsetnoc\""
   ]
  },
  {
   "cell_type": "code",
   "execution_count": 27,
   "id": "corresponding-pavilion",
   "metadata": {},
   "outputs": [
    {
     "data": {
      "text/plain": [
       "\"s'teL ekat edoCteeL tsetnoc\""
      ]
     },
     "execution_count": 27,
     "metadata": {},
     "output_type": "execute_result"
    }
   ],
   "source": [
    "def reverseWords(s: str) -> str:\n",
    "    s = s.split()\n",
    "    for i in range(len(s)):\n",
    "        s[i] = s[i][::-1]\n",
    "    return ' '.join(s)\n",
    "s = \"Let's take LeetCode contest\"\n",
    "reverseWords(s)"
   ]
  },
  {
   "cell_type": "markdown",
   "id": "focused-adapter",
   "metadata": {},
   "source": [
    "**1859** Sorting the Sentence\n",
    "\n",
    "Input: s = \"Myself2 Me1 I4 and3\"\n",
    "\n",
    "Output: \"Me Myself and I\"\n",
    "\n",
    "Explanation: Sort the words in s to their original positions \"Me1 Myself2 and3 I4\", then remove the numbers."
   ]
  },
  {
   "cell_type": "code",
   "execution_count": 43,
   "id": "unknown-information",
   "metadata": {},
   "outputs": [
    {
     "data": {
      "text/plain": [
       "'Me Myself and I'"
      ]
     },
     "execution_count": 43,
     "metadata": {},
     "output_type": "execute_result"
    }
   ],
   "source": [
    "def sortSentence(s: str) -> str:\n",
    "    s = s.split()\n",
    "    sorted_s = [' ' for i in range(len(s))]\n",
    "    for i in range(len(s)):\n",
    "        sorted_s[int(s[i][-1])-1] = s[i][:-1:1]\n",
    "    return ' '.join(sorted_s)\n",
    "s = \"Myself2 Me1 I4 and3\"   \n",
    "sortSentence(s)"
   ]
  },
  {
   "cell_type": "markdown",
   "id": "authentic-norway",
   "metadata": {},
   "source": [
    "**optimized**"
   ]
  },
  {
   "cell_type": "markdown",
   "id": "opponent-biography",
   "metadata": {},
   "source": [
    "**1455** Check If a Word Occurs As a Prefix of Any Word in a Sentence\n",
    "\n",
    "Input: sentence = \"i love eating burger\", searchWord = \"burg\"\n",
    "\n",
    "Output: 4\n",
    "\n",
    "Explanation: \"burg\" is prefix of \"burger\" which is the 4th word in the sentence."
   ]
  },
  {
   "cell_type": "code",
   "execution_count": 14,
   "id": "applied-namibia",
   "metadata": {},
   "outputs": [
    {
     "data": {
      "text/plain": [
       "4"
      ]
     },
     "execution_count": 14,
     "metadata": {},
     "output_type": "execute_result"
    }
   ],
   "source": [
    "def isPrefixOfWord(sentence: str, searchWord: str) -> int:\n",
    "    sentence = sentence.split()\n",
    "    length = len(searchWord)\n",
    "    for i,word in enumerate(sentence):\n",
    "        if word[:length] == searchWord:\n",
    "            return i+1\n",
    "    return -1\n",
    "sentence = \"i love eating burger\"\n",
    "searchWord = \"burg\"\n",
    "isPrefixOfWord(sentence,searchWord)"
   ]
  },
  {
   "cell_type": "markdown",
   "id": "lonely-abortion",
   "metadata": {},
   "source": [
    "**387**  First Unique Character in a String\n",
    "\n",
    "Input: s = \"leetcode\"\n",
    "\n",
    "Output: 0\n",
    "\n",
    "Input: s = \"aabb\"\n",
    "\n",
    "Output: -1"
   ]
  },
  {
   "cell_type": "code",
   "execution_count": 44,
   "id": "faced-primary",
   "metadata": {},
   "outputs": [
    {
     "data": {
      "text/plain": [
       "0"
      ]
     },
     "execution_count": 44,
     "metadata": {},
     "output_type": "execute_result"
    }
   ],
   "source": [
    "import collections\n",
    "def firstUniqChar(s: str) -> int:\n",
    "    count_char = collections.Counter(s) # 记住这一行\n",
    "    for i, c in enumerate(count_char):\n",
    "        if count_char[c] == 1:\n",
    "            return s.index(c)  # 不是返回 i，是返回 s.index()\n",
    "    return -1 \n",
    "        \n",
    "s = \"leetcode\"       \n",
    "firstUniqChar(s)"
   ]
  },
  {
   "cell_type": "markdown",
   "id": "clean-marking",
   "metadata": {},
   "source": [
    "**458**"
   ]
  },
  {
   "cell_type": "markdown",
   "id": "smaller-museum",
   "metadata": {},
   "source": [
    "**917**"
   ]
  },
  {
   "cell_type": "markdown",
   "id": "internal-antique",
   "metadata": {},
   "source": [
    "## String\n",
    "**1480**\n",
    "\n",
    "Input: nums = [1,2,3,4]\n",
    "\n",
    "Output: [1,3,6,10]\n",
    "\n",
    "Explanation: Running sum is obtained as follows: [1, 1+2, 1+2+3, 1+2+3+4]."
   ]
  },
  {
   "cell_type": "code",
   "execution_count": 50,
   "id": "opposite-effect",
   "metadata": {},
   "outputs": [
    {
     "data": {
      "text/plain": [
       "[1, 3, 6, 10]"
      ]
     },
     "execution_count": 50,
     "metadata": {},
     "output_type": "execute_result"
    }
   ],
   "source": [
    "def runningSum(nums: list) -> list:\n",
    "    res = [nums[0]]\n",
    "    for i in nums[1:]:\n",
    "        res.append(res[-1]+i)\n",
    "    return res\n",
    "nums = [1,2,3,4]\n",
    "runningSum(nums)"
   ]
  },
  {
   "cell_type": "markdown",
   "id": "environmental-appearance",
   "metadata": {},
   "source": [
    "**1365**\n",
    "Input: nums = [8,1,2,2,3]\n",
    "\n",
    "Output: [4,0,1,1,3]\n",
    "\n",
    "Explanation: \n",
    "For nums[0]=8 there exist four smaller numbers than it (1, 2, 2 and 3). \n",
    "\n",
    "For nums[1]=1 does not exist any smaller number than it.\n",
    "\n",
    "For nums[2]=2 there exist one smaller number than it (1). \n",
    "\n",
    "For nums[3]=2 there exist one smaller number than it (1). \n",
    "\n",
    "For nums[4]=3 there exist three smaller numbers than it (1, 2 and 2)."
   ]
  },
  {
   "cell_type": "code",
   "execution_count": 56,
   "id": "voluntary-inside",
   "metadata": {},
   "outputs": [
    {
     "data": {
      "text/plain": [
       "[4, 0, 1, 1, 3]"
      ]
     },
     "execution_count": 56,
     "metadata": {},
     "output_type": "execute_result"
    }
   ],
   "source": [
    "def smallerNumbersThanCurrent(nums: list) -> list:\n",
    "    sorted_num = sorted(nums)  # note here: sorted() returns a new list, \n",
    "                               # l.sort() modifies the list in-place and returns None. This is more efficient\n",
    "    res = []\n",
    "    for i in nums:\n",
    "        res.append(sorted_num.index(i))\n",
    "    return res\n",
    "nums = [8,1,2,2,3]\n",
    "smallerNumbersThanCurrent(nums)\n",
    "\n",
    "# nums.index(n) is an O(n) operation, since it does a linear scan of the array each time you call it. \n",
    "# So having it within a for loop gives you O(N^2) performance. "
   ]
  },
  {
   "cell_type": "code",
   "execution_count": 67,
   "id": "indoor-character",
   "metadata": {},
   "outputs": [],
   "source": [
    "# optimise\n",
    "def smallerNumbersThanCurrent(nums: list) -> list:\n",
    "    sorted_nums = sorted(nums)\n",
    "    mapping = {}\n",
    "    for i,e in enumerate(sorted_nums):\n",
    "        pass"
   ]
  },
  {
   "cell_type": "markdown",
   "id": "cross-inclusion",
   "metadata": {},
   "source": [
    "**832 Flipping an Image**\n",
    "\n",
    "Input: image = [[1,1,0],[1,0,1],[0,0,0]]\n",
    "\n",
    "Output: [[1,0,0],[0,1,0],[1,1,1]]\n",
    "\n",
    "Explanation: First reverse each row: [[0,1,1],[1,0,1],[0,0,0]]\n",
    "\n",
    "Then, invert the image: [[1,0,0],[0,1,0],[1,1,1]]"
   ]
  },
  {
   "cell_type": "code",
   "execution_count": 99,
   "id": "turkish-health",
   "metadata": {},
   "outputs": [
    {
     "data": {
      "text/plain": [
       "[[1, 0, 0], [0, 1, 0], [1, 1, 1]]"
      ]
     },
     "execution_count": 99,
     "metadata": {},
     "output_type": "execute_result"
    }
   ],
   "source": [
    "def flipAndInvertImage(image):\n",
    "    mapping = {1:0,0:1}\n",
    "    for i, l in enumerate(image):\n",
    "        l[::1] = l[::-1]\n",
    "        invert = [mapping[e] for e in l]\n",
    "        image[i] = invert\n",
    "    return image\n",
    "image = [[1,1,0],[1,0,1],[0,0,0]]\n",
    "flipAndInvertImage(image)"
   ]
  },
  {
   "cell_type": "markdown",
   "id": "expressed-universe",
   "metadata": {},
   "source": [
    ">>> this example swaps integers without a temporary variable using XOR\n",
    ">>> a = 2\n",
    ">>> b = 8\n",
    ">>> a ^= b\n",
    ">>> b ^= a\n",
    ">>> a ^= b\n",
    ">>> a\n",
    "8\n",
    ">>> b\n",
    "2\n"
   ]
  },
  {
   "cell_type": "code",
   "execution_count": 98,
   "id": "physical-roman",
   "metadata": {},
   "outputs": [],
   "source": [
    "def flipAndInvertImage(image):\n",
    "        oi=[]\n",
    "        for i in image:\n",
    "            i.reverse()\n",
    "            oi.append([n ^ 1 for n in i]) # 记住 ^ 的用法\n",
    "        return oi"
   ]
  },
  {
   "cell_type": "code",
   "execution_count": 79,
   "id": "august-timothy",
   "metadata": {},
   "outputs": [
    {
     "data": {
      "text/plain": [
       "0"
      ]
     },
     "execution_count": 79,
     "metadata": {},
     "output_type": "execute_result"
    }
   ],
   "source": [
    "# 只有 True False 组合才 return True，其他都返回 False\n",
    "1^1"
   ]
  },
  {
   "cell_type": "code",
   "execution_count": 75,
   "id": "rough-classics",
   "metadata": {},
   "outputs": [
    {
     "data": {
      "text/plain": [
       "1"
      ]
     },
     "execution_count": 75,
     "metadata": {},
     "output_type": "execute_result"
    }
   ],
   "source": [
    "0^1"
   ]
  },
  {
   "cell_type": "code",
   "execution_count": 76,
   "id": "continuing-secret",
   "metadata": {},
   "outputs": [
    {
     "data": {
      "text/plain": [
       "0"
      ]
     },
     "execution_count": 76,
     "metadata": {},
     "output_type": "execute_result"
    }
   ],
   "source": [
    "0^0"
   ]
  },
  {
   "cell_type": "code",
   "execution_count": 77,
   "id": "statutory-bread",
   "metadata": {},
   "outputs": [
    {
     "data": {
      "text/plain": [
       "1"
      ]
     },
     "execution_count": 77,
     "metadata": {},
     "output_type": "execute_result"
    }
   ],
   "source": [
    "1^0"
   ]
  },
  {
   "cell_type": "code",
   "execution_count": 80,
   "id": "backed-fifty",
   "metadata": {},
   "outputs": [],
   "source": [
    "# best solutin\n",
    "class Solution(object):\n",
    "    def flipAndInvertImage(self, A):\n",
    "        for row in A:\n",
    "            for i in xrange((len(row) + 1) / 2):\n",
    "                \"\"\"\n",
    "                In Python, the shortcut row[~i] = row[-i-1] = row[len(row) - 1 - i]\n",
    "                helps us find the i-th value of the row, counting from the right.\n",
    "                \"\"\"\n",
    "                row[i], row[~i] = row[~i] ^ 1, row[i] ^ 1\n",
    "        return A"
   ]
  },
  {
   "cell_type": "markdown",
   "id": "brutal-stephen",
   "metadata": {},
   "source": [
    "**1295. Find Numbers with Even Number of Digits**\n",
    "Input: nums = [12,345,2,6,7896]\n",
    "\n",
    "Output: 2\n",
    "\n",
    "Explanation: \n",
    "\n",
    "12 contains 2 digits (even number of digits). \n",
    "\n",
    "345 contains 3 digits (odd number of digits). \n",
    "\n",
    "2 contains 1 digit (odd number of digits). \n",
    "\n",
    "6 contains 1 digit (odd number of digits). \n",
    "\n",
    "7896 contains 4 digits (even number of digits). \n",
    "\n",
    "Therefore only 12 and 7896 contain an even number of digits."
   ]
  },
  {
   "cell_type": "code",
   "execution_count": 97,
   "id": "essential-power",
   "metadata": {},
   "outputs": [],
   "source": [
    "def findNumbers(nums: list) -> int:\n",
    "    total = 0\n",
    "    for i in nums:\n",
    "        if len(str(i))%2==0:\n",
    "            total +=1\n",
    "    return total"
   ]
  },
  {
   "cell_type": "code",
   "execution_count": 90,
   "id": "endless-participation",
   "metadata": {},
   "outputs": [],
   "source": [
    "# shorter it\n",
    "def findNumbers(nums: list) -> int: \n",
    "    return len([i for i in nums if len(str(i))%2==0])"
   ]
  },
  {
   "cell_type": "markdown",
   "id": "interpreted-correction",
   "metadata": {},
   "source": [
    "**1827 Minimum Operations to Make the Array Increasing**\n",
    "Input: nums = [1,1,1]\n",
    "\n",
    "Output: 3\n",
    "\n",
    "Explanation: You can do the following operations:\n",
    "\n",
    "1) Increment nums[2], so nums becomes [1,1,2].\n",
    "\n",
    "2) Increment nums[1], so nums becomes [1,2,2].\n",
    "\n",
    "3) Increment nums[2], so nums becomes [1,2,3]."
   ]
  },
  {
   "cell_type": "code",
   "execution_count": 96,
   "id": "developed-birthday",
   "metadata": {},
   "outputs": [],
   "source": [
    "def minOperations(nums: list) -> int:\n",
    "    if len(nums)==1:\n",
    "        return 0\n",
    "    operation = 0\n",
    "    left = nums[0]\n",
    "    for right in nums[1:]:\n",
    "        temp = max(left+1, right)\n",
    "        operation += temp-right\n",
    "        left = temp\n",
    "    return operation"
   ]
  },
  {
   "cell_type": "code",
   "execution_count": 95,
   "id": "democratic-killer",
   "metadata": {},
   "outputs": [],
   "source": [
    "# better solution\n",
    "class Solution:\n",
    "    def minOperations(self, nums: list) -> int:\n",
    "        pre,ans=0,0\n",
    "        for i in nums:\n",
    "            if pre < i:\n",
    "                pre=i\n",
    "            else:\n",
    "                pre+=1\n",
    "                ans+=pre-i\n",
    "        return ans"
   ]
  },
  {
   "cell_type": "markdown",
   "id": "piano-frame",
   "metadata": {},
   "source": [
    "**1351. Count Negative Numbers in a Sorted Matrix**\n",
    "\n",
    "Given a m x n matrix grid which is sorted in non-increasing order both row-wise and column-wise, return the number of negative numbers in grid.\n",
    "\n",
    "Input: grid = [[4,3,2,-1],[3,2,1,-1],[1,1,-1,-2],[-1,-1,-2,-3]]\n",
    "\n",
    "Output: 8\n",
    "\n",
    "Explanation: There are 8 negatives number in the matrix."
   ]
  },
  {
   "cell_type": "code",
   "execution_count": 102,
   "id": "boolean-floor",
   "metadata": {},
   "outputs": [],
   "source": [
    "class Solution:\n",
    "    def countNegatives(self, grid: list) -> int:\n",
    "        count = 0\n",
    "        row_len = len(grid[0])\n",
    "        for row in grid:\n",
    "            for i,e in enumerate(row):\n",
    "                if e < 0:\n",
    "                    count += row_len-i\n",
    "                    break\n",
    "        return count \n",
    "    \n",
    "# O(m+n) solution   \n",
    "class Solution(object):\n",
    "    def countNegatives(self, grid):\n",
    "        i = len(grid)-1\n",
    "        j = 0\n",
    "        count = 0\n",
    "        while i>=0 and j< len(grid[0]):\n",
    "            print(i,j)\n",
    "            if grid[i][j] < 0:\n",
    "                count +=len(grid[0])-j\n",
    "                i -= 1\n",
    "            else:\n",
    "                j +=1\n",
    "        return(count)"
   ]
  },
  {
   "cell_type": "markdown",
   "id": "inappropriate-variation",
   "metadata": {},
   "source": [
    "**1122 Relative Sort Array**"
   ]
  },
  {
   "cell_type": "markdown",
   "id": "optimum-stock",
   "metadata": {},
   "source": [
    "## DFS"
   ]
  },
  {
   "cell_type": "markdown",
   "id": "cultural-workstation",
   "metadata": {},
   "source": [
    "**938 Range Sum of BST**\n",
    "\n",
    "Given the root node of a binary search tree and two integers low and high, return the sum of values of all nodes with a value in the inclusive range [low, high].\n",
    "\n",
    "Input: root = [10,5,15,3,7,null,18], low = 7, high = 15\n",
    "\n",
    "Output: 32\n",
    "\n",
    "Explanation: Nodes 7, 10, and 15 are in the range [7, 15]. 7 + 10 + 15 = 32."
   ]
  },
  {
   "cell_type": "markdown",
   "id": "precise-danger",
   "metadata": {},
   "source": [
    "class TreeNode:\n",
    "    def __init__(self, val=0, left=None, right=None):\n",
    "        self.val = val\n",
    "        self.left = left\n",
    "        self.right = right\n",
    "class Solution:\n",
    "    def rangeSumBST(self, root, low: int, high: int) -> int:\n",
    "        if root.left < low: return self.rangeSumBST(root.right, low, high)\n",
    "        if root.right > high: return self.rangeSumBST(root.left, low, high)\n",
    "        return root.val + self.rangeSumBST(root.val, low, high)"
   ]
  },
  {
   "cell_type": "markdown",
   "id": "ambient-sailing",
   "metadata": {},
   "source": [
    "**104. Maximum Depth of Binary Tree Do again**\n",
    "\n",
    "Given the root of a binary tree, return its maximum depth.\n",
    "\n",
    "A binary tree's maximum depth is the number of nodes along the longest path from the root node down to the farthest leaf node.\n",
    "\n",
    "note: 终止条件是：node is empty\n",
    "\n",
    "当node是空的时候，高度是0， 所以应该返回0. "
   ]
  },
  {
   "cell_type": "markdown",
   "id": "ultimate-martial",
   "metadata": {},
   "source": [
    "**257 Binary Tree Paths**\n",
    "\n",
    "Given the root of a binary tree, return all root-to-leaf paths in any order."
   ]
  },
  {
   "cell_type": "markdown",
   "id": "animal-torture",
   "metadata": {},
   "source": [
    "**101. Symmetric Tree**\n",
    "\n",
    "Given the root of a binary tree, check whether it is a mirror of itself (i.e., symmetric around its center).\n",
    "\n",
    "Note:\n",
    "\n",
    "False 的情况是三种（比较 node A 和 node B）：\n",
    "1. A and B 都是 空： Not(A and B) -> False\n",
    "2. A or B is empty: (A or B) -> False,  反过来则 Not (A or B) -> True\n",
    "3. A 和 B 的值不相等 val A != val B -> False"
   ]
  },
  {
   "cell_type": "code",
   "execution_count": 12,
   "id": "living-armstrong",
   "metadata": {},
   "outputs": [],
   "source": [
    "class TreeNode:\n",
    "    def __init__(self, val=0, left=None, right=None):\n",
    "        self.val = val\n",
    "        self.left = left\n",
    "        self.right = right\n",
    "tn = TreeNode(1)"
   ]
  },
  {
   "cell_type": "code",
   "execution_count": 13,
   "id": "presidential-update",
   "metadata": {},
   "outputs": [],
   "source": [
    "tn.left=TreeNode(2)\n",
    "tn.left.left = TreeNode(3)\n",
    "tn.left.right = TreeNode(4)\n",
    "tn.right = TreeNode(2)\n",
    "tn.right.left = TreeNode(4)\n",
    "tn.right.right = TreeNode(3)"
   ]
  },
  {
   "cell_type": "code",
   "execution_count": 20,
   "id": "committed-watch",
   "metadata": {},
   "outputs": [],
   "source": [
    "class Solution:\n",
    "    def isSymmetric(self, root: TreeNode) -> bool:\n",
    "        if not root:\n",
    "            return True\n",
    "        def dfs(left, right):\n",
    "            if not (left or right):\n",
    "                return True\n",
    "            if not (left and right): # left and right 才有可能是 True\n",
    "                return False\n",
    "            if left.val != right.val:\n",
    "                return False\n",
    "            return dfs(left.left, right.right) and dfs(left.right, right.left)\n",
    "        return dfs(root.left, root.right)\n",
    "        \n"
   ]
  },
  {
   "cell_type": "code",
   "execution_count": 21,
   "id": "refined-anime",
   "metadata": {},
   "outputs": [],
   "source": [
    "s = Solution()"
   ]
  },
  {
   "cell_type": "code",
   "execution_count": 22,
   "id": "recent-region",
   "metadata": {},
   "outputs": [
    {
     "data": {
      "text/plain": [
       "True"
      ]
     },
     "execution_count": 22,
     "metadata": {},
     "output_type": "execute_result"
    }
   ],
   "source": [
    "s.isSymmetric(tn)"
   ]
  },
  {
   "cell_type": "markdown",
   "id": "major-microphone",
   "metadata": {},
   "source": [
    "**110 Balanced Binary Tree**"
   ]
  },
  {
   "cell_type": "code",
   "execution_count": 4,
   "id": "employed-application",
   "metadata": {},
   "outputs": [],
   "source": [
    "class TreeNode:\n",
    "    def __init__(self, val=0, left=None, right=None):\n",
    "        self.val = val\n",
    "        self.left = left\n",
    "        self.right = right"
   ]
  },
  {
   "cell_type": "code",
   "execution_count": 7,
   "id": "pretty-calendar",
   "metadata": {},
   "outputs": [],
   "source": [
    "tn = TreeNode(3)\n",
    "tn.left = TreeNode(9)\n",
    "tn.right = TreeNode(20)\n",
    "tn.right.left = TreeNode(15)\n",
    "tn.right.right = TreeNode(7)"
   ]
  },
  {
   "cell_type": "code",
   "execution_count": 8,
   "id": "willing-judges",
   "metadata": {},
   "outputs": [],
   "source": [
    "class Solution:\n",
    "    def isBalanced(self, root) -> bool:\n",
    "        if not root: return True\n",
    "        def dfs(left, right):\n",
    "            "
   ]
  },
  {
   "cell_type": "code",
   "execution_count": null,
   "id": "purple-attitude",
   "metadata": {},
   "outputs": [],
   "source": []
  }
 ],
 "metadata": {
  "kernelspec": {
   "display_name": "Python 3",
   "language": "python",
   "name": "python3"
  },
  "language_info": {
   "codemirror_mode": {
    "name": "ipython",
    "version": 3
   },
   "file_extension": ".py",
   "mimetype": "text/x-python",
   "name": "python",
   "nbconvert_exporter": "python",
   "pygments_lexer": "ipython3",
   "version": "3.7.9"
  }
 },
 "nbformat": 4,
 "nbformat_minor": 5
}
