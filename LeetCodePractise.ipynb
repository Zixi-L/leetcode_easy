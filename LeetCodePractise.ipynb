{
 "cells": [
  {
   "cell_type": "code",
   "execution_count": null,
   "metadata": {},
   "outputs": [],
   "source": [
    "def max_subarrary(nums: Sequence[float]) -> float:\n",
    "  best_sum_before_n = maxsum = nums[0]\n",
    "  for n in nums[1:]:\n",
    "    best_sum_before_n = max(n, best_sum_before_n + n)\n",
    "    maxsum = max(maxsum, best_sum_before_n)\n",
    "  return maxsum\n",
    "\n",
    "# Dynamic programming"
   ]
  }
 ],
 "metadata": {
  "kernelspec": {
   "display_name": "Python 3",
   "language": "python",
   "name": "python3"
  },
  "language_info": {
   "codemirror_mode": {
    "name": "ipython",
    "version": 3
   },
   "file_extension": ".py",
   "mimetype": "text/x-python",
   "name": "python",
   "nbconvert_exporter": "python",
   "pygments_lexer": "ipython3",
   "version": "3.7.6"
  }
 },
 "nbformat": 4,
 "nbformat_minor": 4
}
