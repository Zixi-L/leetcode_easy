{
 "cells": [
  {
   "cell_type": "code",
   "execution_count": 2,
   "metadata": {},
   "outputs": [],
   "source": [
    "\"\"\"\n",
    "# Definition for a Node.\n",
    "class Node:\n",
    "    def __init__(self, val=None, children=None):\n",
    "        self.val = val\n",
    "        self.children = children\n",
    "\"\"\"\n",
    "\n",
    "class Solution:\n",
    "    def maxDepth(self, root: 'Node') -> int:\n",
    "        if root == None:\n",
    "            print('root is None')\n",
    "            return 0\n",
    "        # Depth level of the tree\n",
    "        print('Reset Depth = 0')\n",
    "        depth = 0     \n",
    "        # Loops through children array\n",
    "        for child in root.children:\n",
    "            print('child:' , str(child.val),'depth before:', depth)\n",
    "            depth = max(depth, self.maxDepth(child))\n",
    "            print('depth after:', depth)\n",
    "        # As going deeper into the tree increases depth by 1\n",
    "        print ('root ' + str(root.val) + ' depth ' + str(depth + 1))\n",
    "        return depth + 1 \n"
   ]
  },
  {
   "cell_type": "code",
   "execution_count": null,
   "metadata": {},
   "outputs": [],
   "source": [
    "Reset Depth = 0\n",
    "child: 3 depth before: 0\n",
    "Reset Depth = 0\n",
    "child: 5 depth before: 0\n",
    "Reset Depth = 0\n",
    "root 5 depth 1\n",
    "depth after: 1\n",
    "child: 6 depth before: 1\n",
    "Reset Depth = 0\n",
    "root 6 depth 1\n",
    "depth after: 1\n",
    "root 3 depth 2\n",
    "depth after: 2\n",
    "child: 2 depth before: 2\n",
    "Reset Depth = 0\n",
    "root 2 depth 1\n",
    "depth after: 2\n",
    "child: 4 depth before: 2\n",
    "Reset Depth = 0\n",
    "root 4 depth 1\n",
    "depth after: 2\n",
    "root 1 depth 3"
   ]
  },
  {
   "cell_type": "code",
   "execution_count": null,
   "metadata": {},
   "outputs": [],
   "source": []
  },
  {
   "cell_type": "code",
   "execution_count": null,
   "metadata": {},
   "outputs": [],
   "source": []
  },
  {
   "cell_type": "code",
   "execution_count": null,
   "metadata": {},
   "outputs": [],
   "source": []
  },
  {
   "cell_type": "code",
   "execution_count": null,
   "metadata": {},
   "outputs": [],
   "source": []
  },
  {
   "cell_type": "code",
   "execution_count": null,
   "metadata": {},
   "outputs": [],
   "source": []
  }
 ],
 "metadata": {
  "kernelspec": {
   "display_name": "Python 3",
   "language": "python",
   "name": "python3"
  },
  "language_info": {
   "codemirror_mode": {
    "name": "ipython",
    "version": 3
   },
   "file_extension": ".py",
   "mimetype": "text/x-python",
   "name": "python",
   "nbconvert_exporter": "python",
   "pygments_lexer": "ipython3",
   "version": "3.7.6"
  }
 },
 "nbformat": 4,
 "nbformat_minor": 4
}
